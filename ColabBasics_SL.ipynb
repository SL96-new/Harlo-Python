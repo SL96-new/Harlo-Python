{
  "nbformat": 4,
  "nbformat_minor": 0,
  "metadata": {
    "colab": {
      "name": "ColabBasics_SL",
      "provenance": [],
      "collapsed_sections": [],
      "toc_visible": true,
      "include_colab_link": true
    },
    "kernelspec": {
      "name": "python3",
      "display_name": "Python 3"
    },
    "language_info": {
      "name": "python"
    }
  },
  "cells": [
    {
      "cell_type": "markdown",
      "metadata": {
        "id": "view-in-github",
        "colab_type": "text"
      },
      "source": [
        "<a href=\"https://colab.research.google.com/github/SL96-new/Harlo-Python/blob/main/ColabBasics_SL.ipynb\" target=\"_parent\"><img src=\"https://colab.research.google.com/assets/colab-badge.svg\" alt=\"Open In Colab\"/></a>"
      ]
    },
    {
      "cell_type": "markdown",
      "metadata": {
        "id": "hdt8BaUJQ9J3"
      },
      "source": [
        "# Getting Started with Google Colab\n",
        "\n",
        "### Agenda\n",
        "- [ ] Learn basics of navigation around Colab environment\n",
        "- [ ] Learn shortcut key for navigation\n",
        "- [ ] Learn to code in Colab\n",
        "- [ ] Learn to write markdown in Colab\n",
        "- [ ] Learn advance markdown such as latex in Colab\n"
      ]
    },
    {
      "cell_type": "code",
      "metadata": {
        "colab": {
          "base_uri": "https://localhost:8080/"
        },
        "id": "EBlacqWOQPzH",
        "outputId": "99f20fd9-1cc0-4ee2-800c-12143090260f"
      },
      "source": [
        "print(\"Hello World!!\")"
      ],
      "execution_count": null,
      "outputs": [
        {
          "output_type": "stream",
          "name": "stdout",
          "text": [
            "Hello World!!\n"
          ]
        }
      ]
    },
    {
      "cell_type": "markdown",
      "metadata": {
        "id": "N6HPcPpiZepT"
      },
      "source": [
        "## Common Shortcut Key\n",
        "\n",
        "* ctrl + enter >>> run cell\n",
        "* shift + enter >>> run the cell and move focus to the next cell (adding one if none exists)\n",
        "* alt + enter >>> run the cell and insert a new code cell below \n",
        "* ctrl + z >>> undo within cell\n",
        "* ctrl + m, d >>> delete cell\n",
        "* ctrl + m, a >>> add cell above\n",
        "* ctrl + m, b >>> add cell below\n",
        "* ctrl + m, j >>> move cell below\n",
        "* ctrl + m, k >>> move cell above\n",
        "* ctrl + m, m >>> change to markdown from code\n",
        "* ctrl + m, y >>> change to code from markdown\n",
        "* ctrl + m, z >>> undo whole cell\n",
        "* ctrl + m, i >>> interrupt code execute\n",
        "* ctrl + alt + m >>> add comment"
      ]
    },
    {
      "cell_type": "code",
      "metadata": {
        "colab": {
          "base_uri": "https://localhost:8080/"
        },
        "id": "PhPqQMNpZONM",
        "outputId": "9123fe64-79a5-41c1-86f1-863377539e10"
      },
      "source": [
        "print('one line below')"
      ],
      "execution_count": null,
      "outputs": [
        {
          "output_type": "stream",
          "name": "stdout",
          "text": [
            "one line below\n"
          ]
        }
      ]
    },
    {
      "cell_type": "markdown",
      "metadata": {
        "id": "npbe4JR4Q4GI"
      },
      "source": [
        "#### TRY Something else\n",
        "\n",
        "This function adds up stuff, e.g.,\n",
        "```python\n",
        "def add(x+y):\n",
        "  return x + y\n",
        "\n",
        "print(add(6, 8))\n",
        "\n",
        "> output[1]: 14\n",
        "```\n"
      ]
    },
    {
      "cell_type": "code",
      "metadata": {
        "colab": {
          "base_uri": "https://localhost:8080/"
        },
        "id": "FIKGPegyQ3z_",
        "outputId": "81153cf1-7b7c-477f-ef38-e5cc3ade74ae"
      },
      "source": [
        "## create a function that perform summation\n",
        "def add(x, y):\n",
        "  return x + y\n",
        "\n",
        "print(add(6, 8))"
      ],
      "execution_count": null,
      "outputs": [
        {
          "output_type": "stream",
          "name": "stdout",
          "text": [
            "14\n"
          ]
        }
      ]
    },
    {
      "cell_type": "code",
      "metadata": {
        "id": "RQK-N18YQ3rD"
      },
      "source": [
        ""
      ],
      "execution_count": null,
      "outputs": []
    }
  ]
}