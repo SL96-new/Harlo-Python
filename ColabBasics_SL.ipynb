{
  "nbformat": 4,
  "nbformat_minor": 0,
  "metadata": {
    "colab": {
      "name": "ColabBasics_SL",
      "provenance": [],
      "collapsed_sections": [],
      "include_colab_link": true
    },
    "kernelspec": {
      "name": "python3",
      "display_name": "Python 3"
    },
    "language_info": {
      "name": "python"
    }
  },
  "cells": [
    {
      "cell_type": "markdown",
      "metadata": {
        "id": "view-in-github",
        "colab_type": "text"
      },
      "source": [
        "<a href=\"https://colab.research.google.com/github/SL96-new/Harlo-Python/blob/main/ColabBasics_SL.ipynb\" target=\"_parent\"><img src=\"https://colab.research.google.com/assets/colab-badge.svg\" alt=\"Open In Colab\"/></a>"
      ]
    },
    {
      "cell_type": "markdown",
      "metadata": {
        "id": "hdt8BaUJQ9J3"
      },
      "source": [
        "# Getting Started with Google Colab\n",
        "\n",
        "### Agenda\n",
        "- [ ] Learn basics of navigation around Colab environment\n",
        "- [ ] Learn to code in Colab\n",
        "- [ ] Learn to write markdown in Colab\n",
        "- [ ] Learn advance markdown such as latex in Colab\n"
      ]
    },
    {
      "cell_type": "code",
      "metadata": {
        "colab": {
          "base_uri": "https://localhost:8080/"
        },
        "id": "EBlacqWOQPzH",
        "outputId": "99f20fd9-1cc0-4ee2-800c-12143090260f"
      },
      "source": [
        "print(\"Hello World!!\")"
      ],
      "execution_count": 1,
      "outputs": [
        {
          "output_type": "stream",
          "name": "stdout",
          "text": [
            "Hello World!!\n"
          ]
        }
      ]
    },
    {
      "cell_type": "markdown",
      "metadata": {
        "id": "npbe4JR4Q4GI"
      },
      "source": [
        "#### TRY Something else"
      ]
    },
    {
      "cell_type": "code",
      "metadata": {
        "colab": {
          "base_uri": "https://localhost:8080/"
        },
        "id": "FIKGPegyQ3z_",
        "outputId": "81153cf1-7b7c-477f-ef38-e5cc3ade74ae"
      },
      "source": [
        "def add(x, y):\n",
        "  return x + y\n",
        "\n",
        "print(add(6, 8))"
      ],
      "execution_count": 2,
      "outputs": [
        {
          "output_type": "stream",
          "name": "stdout",
          "text": [
            "14\n"
          ]
        }
      ]
    },
    {
      "cell_type": "code",
      "metadata": {
        "id": "RQK-N18YQ3rD"
      },
      "source": [
        ""
      ],
      "execution_count": null,
      "outputs": []
    }
  ]
}